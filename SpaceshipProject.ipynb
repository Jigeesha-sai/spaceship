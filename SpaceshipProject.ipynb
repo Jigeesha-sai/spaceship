{
  "nbformat": 4,
  "nbformat_minor": 0,
  "metadata": {
    "colab": {
      "provenance": []
    },
    "kernelspec": {
      "name": "python3",
      "display_name": "Python 3"
    },
    "language_info": {
      "name": "python"
    }
  },
  "cells": [
    {
      "cell_type": "markdown",
      "source": [
        "LOADING DATA"
      ],
      "metadata": {
        "id": "JAPXMyjz8JBI"
      }
    },
    {
      "cell_type": "code",
      "execution_count": 8,
      "metadata": {
        "colab": {
          "base_uri": "https://localhost:8080/"
        },
        "id": "F5A2z92z7rIe",
        "outputId": "909f36ba-d379-498f-92c8-9d8dd546d8a2"
      },
      "outputs": [
        {
          "output_type": "stream",
          "name": "stdout",
          "text": [
            "  PassengerId HomePlanet CryoSleep  Cabin  Destination   Age    VIP  \\\n",
            "0     0001_01     Europa     False  B/0/P  TRAPPIST-1e  39.0  False   \n",
            "1     0002_01      Earth     False  F/0/S  TRAPPIST-1e  24.0  False   \n",
            "2     0003_01     Europa     False  A/0/S  TRAPPIST-1e  58.0   True   \n",
            "3     0003_02     Europa     False  A/0/S  TRAPPIST-1e  33.0  False   \n",
            "4     0004_01      Earth     False  F/1/S  TRAPPIST-1e  16.0  False   \n",
            "\n",
            "   RoomService  FoodCourt  ShoppingMall     Spa  VRDeck               Name  \\\n",
            "0          0.0        0.0           0.0     0.0     0.0    Maham Ofracculy   \n",
            "1        109.0        9.0          25.0   549.0    44.0       Juanna Vines   \n",
            "2         43.0     3576.0           0.0  6715.0    49.0      Altark Susent   \n",
            "3          0.0     1283.0         371.0  3329.0   193.0       Solam Susent   \n",
            "4        303.0       70.0         151.0   565.0     2.0  Willy Santantines   \n",
            "\n",
            "   Transported  \n",
            "0        False  \n",
            "1         True  \n",
            "2        False  \n",
            "3        False  \n",
            "4         True  \n",
            "<class 'pandas.core.frame.DataFrame'>\n",
            "RangeIndex: 8693 entries, 0 to 8692\n",
            "Data columns (total 14 columns):\n",
            " #   Column        Non-Null Count  Dtype  \n",
            "---  ------        --------------  -----  \n",
            " 0   PassengerId   8693 non-null   object \n",
            " 1   HomePlanet    8492 non-null   object \n",
            " 2   CryoSleep     8476 non-null   object \n",
            " 3   Cabin         8494 non-null   object \n",
            " 4   Destination   8511 non-null   object \n",
            " 5   Age           8514 non-null   float64\n",
            " 6   VIP           8490 non-null   object \n",
            " 7   RoomService   8512 non-null   float64\n",
            " 8   FoodCourt     8510 non-null   float64\n",
            " 9   ShoppingMall  8485 non-null   float64\n",
            " 10  Spa           8510 non-null   float64\n",
            " 11  VRDeck        8505 non-null   float64\n",
            " 12  Name          8493 non-null   object \n",
            " 13  Transported   8693 non-null   bool   \n",
            "dtypes: bool(1), float64(6), object(7)\n",
            "memory usage: 891.5+ KB\n",
            "None\n",
            "PassengerId       0\n",
            "HomePlanet      201\n",
            "CryoSleep       217\n",
            "Cabin           199\n",
            "Destination     182\n",
            "Age             179\n",
            "VIP             203\n",
            "RoomService     181\n",
            "FoodCourt       183\n",
            "ShoppingMall    208\n",
            "Spa             183\n",
            "VRDeck          188\n",
            "Name            200\n",
            "Transported       0\n",
            "dtype: int64\n"
          ]
        }
      ],
      "source": [
        "import pandas as pd\n",
        "import numpy as np\n",
        "\n",
        "# Load the data\n",
        "train_df = pd.read_csv('/content/train.csv')\n",
        "test_df = pd.read_csv('/content/test.csv')\n",
        "\n",
        "# Display the first few rows of the training data\n",
        "print(train_df.head())\n",
        "\n",
        "# Display information about the training data\n",
        "print(train_df.info())\n",
        "\n",
        "# Check for missing values\n",
        "print(train_df.isnull().sum())\n"
      ]
    },
    {
      "cell_type": "markdown",
      "source": [
        "PREPROCESS DATA"
      ],
      "metadata": {
        "id": "XTfLf-2K98gk"
      }
    },
    {
      "cell_type": "code",
      "source": [
        "from sklearn.preprocessing import LabelEncoder\n",
        "\n",
        "# Fill missing values\n",
        "train_df['Age'].fillna(train_df['Age'].median(), inplace=True)\n",
        "train_df['RoomService'].fillna(0, inplace=True)\n",
        "train_df['FoodCourt'].fillna(0, inplace=True)\n",
        "train_df['ShoppingMall'].fillna(0, inplace=True)\n",
        "train_df['Spa'].fillna(0, inplace=True)\n",
        "train_df['VRDeck'].fillna(0, inplace=True)\n",
        "train_df['CryoSleep'].fillna(False, inplace=True)\n",
        "train_df['VIP'].fillna(False, inplace=True)\n",
        "train_df['HomePlanet'].fillna('Unknown', inplace=True)\n",
        "train_df['Destination'].fillna('Unknown', inplace=True)\n",
        "\n",
        "# Encode categorical variables\n",
        "label_encoders = {}\n",
        "for column in ['HomePlanet', 'CryoSleep', 'Cabin', 'Destination', 'VIP']:\n",
        "    le = LabelEncoder()\n",
        "    train_df[column] = le.fit_transform(train_df[column].astype(str))\n",
        "    label_encoders[column] = le\n",
        "\n",
        "# Drop non-essential columns\n",
        "train_df.drop(columns=['Name'], inplace=True)\n",
        "\n",
        "# Display the cleaned data\n",
        "print(train_df.head())\n"
      ],
      "metadata": {
        "colab": {
          "base_uri": "https://localhost:8080/"
        },
        "id": "p9gV03r_8Hjh",
        "outputId": "a2229ec8-bd1d-42c4-a68c-550e7703da23"
      },
      "execution_count": 2,
      "outputs": [
        {
          "output_type": "stream",
          "name": "stdout",
          "text": [
            "  PassengerId  HomePlanet  CryoSleep  Cabin  Destination   Age  VIP  \\\n",
            "0     0001_01           1          0    149            2  39.0    0   \n",
            "1     0002_01           0          0   2184            2  24.0    0   \n",
            "2     0003_01           1          0      1            2  58.0    1   \n",
            "3     0003_02           1          0      1            2  33.0    0   \n",
            "4     0004_01           0          0   2186            2  16.0    0   \n",
            "\n",
            "   RoomService  FoodCourt  ShoppingMall     Spa  VRDeck  Transported  \n",
            "0          0.0        0.0           0.0     0.0     0.0        False  \n",
            "1        109.0        9.0          25.0   549.0    44.0         True  \n",
            "2         43.0     3576.0           0.0  6715.0    49.0        False  \n",
            "3          0.0     1283.0         371.0  3329.0   193.0        False  \n",
            "4        303.0       70.0         151.0   565.0     2.0         True  \n"
          ]
        }
      ]
    },
    {
      "cell_type": "markdown",
      "source": [
        "MODEL BUILDING"
      ],
      "metadata": {
        "id": "c4b2toN7-Db7"
      }
    },
    {
      "cell_type": "code",
      "source": [
        "from sklearn.model_selection import train_test_split\n",
        "from sklearn.ensemble import RandomForestClassifier\n",
        "from sklearn.metrics import accuracy_score\n",
        "\n",
        "# Split the data\n",
        "X = train_df.drop(columns=['Transported', 'PassengerId'])\n",
        "y = train_df['Transported']\n",
        "\n",
        "X_train, X_val, y_train, y_val = train_test_split(X, y, test_size=0.2, random_state=42)\n",
        "\n",
        "# Train the model\n",
        "model = RandomForestClassifier(random_state=42)\n",
        "model.fit(X_train, y_train)\n",
        "\n",
        "# Validate the model\n",
        "y_pred = model.predict(X_val)\n",
        "print(f'Validation Accuracy: {accuracy_score(y_val, y_pred)}')\n"
      ],
      "metadata": {
        "colab": {
          "base_uri": "https://localhost:8080/"
        },
        "id": "9Jq0je4n-H17",
        "outputId": "99e2a15a-35e8-469f-cdeb-b25d3a3153b2"
      },
      "execution_count": 3,
      "outputs": [
        {
          "output_type": "stream",
          "name": "stdout",
          "text": [
            "Validation Accuracy: 0.7791834387579069\n"
          ]
        }
      ]
    },
    {
      "cell_type": "markdown",
      "source": [
        "PREDICTING"
      ],
      "metadata": {
        "id": "N1mvFvWL-Q3o"
      }
    },
    {
      "cell_type": "code",
      "source": [
        "# Fill missing values in test data\n",
        "test_df['Age'].fillna(train_df['Age'].median(), inplace=True)\n",
        "test_df['RoomService'].fillna(0, inplace=True)\n",
        "test_df['FoodCourt'].fillna(0, inplace=True)\n",
        "test_df['ShoppingMall'].fillna(0, inplace=True)\n",
        "test_df['Spa'].fillna(0, inplace=True)\n",
        "test_df['VRDeck'].fillna(0, inplace=True)\n",
        "test_df['CryoSleep'].fillna(False, inplace=True)\n",
        "test_df['VIP'].fillna(False, inplace=True)\n",
        "test_df['HomePlanet'].fillna('Unknown', inplace=True)\n",
        "test_df['Destination'].fillna('Unknown', inplace=True)\n",
        "\n",
        "# Handle unseen labels for categorical variables\n",
        "def handle_unseen_labels(column, le):\n",
        "    test_labels = test_df[column].astype(str)\n",
        "    known_labels = le.classes_\n",
        "    unseen_mask = ~test_labels.isin(known_labels)\n",
        "    test_labels[unseen_mask] = 'Unknown'\n",
        "    le.classes_ = np.append(le.classes_, 'Unknown')\n",
        "    return le.transform(test_labels)\n",
        "\n",
        "for column in ['HomePlanet', 'CryoSleep', 'Cabin', 'Destination', 'VIP']:\n",
        "    le = label_encoders[column]\n",
        "    test_df[column] = handle_unseen_labels(column, le)\n",
        "\n",
        "# Drop non-essential columns\n",
        "test_df.drop(columns=['Name'], inplace=True)\n",
        "\n",
        "# Make predictions\n",
        "X_test = test_df.drop(columns=['PassengerId'])\n",
        "predictions = model.predict(X_test)\n",
        "\n",
        "# Format the predictions\n",
        "submission = pd.DataFrame({\n",
        "    'PassengerId': test_df['PassengerId'],\n",
        "    'Transported': predictions\n",
        "})"
      ],
      "metadata": {
        "id": "tEeQuijxTuv_"
      },
      "execution_count": 9,
      "outputs": []
    },
    {
      "cell_type": "markdown",
      "source": [
        "SUBMITING"
      ],
      "metadata": {
        "id": "6zN8xVU__Ng9"
      }
    },
    {
      "cell_type": "code",
      "source": [
        "submission = pd.DataFrame({\n",
        "    'PassengerId': test_df['PassengerId'],\n",
        "    'Transported': predictions\n",
        "})\n",
        "\n",
        "# Save the submission file\n",
        "submission.to_csv('submission.csv', index=False)\n"
      ],
      "metadata": {
        "id": "qwLOS13-_Tqm"
      },
      "execution_count": 10,
      "outputs": []
    }
  ]
}